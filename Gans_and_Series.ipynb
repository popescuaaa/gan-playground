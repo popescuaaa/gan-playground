{
  "nbformat": 4,
  "nbformat_minor": 0,
  "metadata": {
    "colab": {
      "name": "Gans and  Series.ipynb",
      "provenance": [],
      "collapsed_sections": [],
      "mount_file_id": "1OFbnKCMqHMezwHoMaXg7rw5k027hJyrQ",
      "authorship_tag": "ABX9TyMYBTxAtK+NF9JK0KZbzS2V",
      "include_colab_link": true
    },
    "kernelspec": {
      "name": "python3",
      "display_name": "Python 3"
    },
    "accelerator": "GPU"
  },
  "cells": [
    {
      "cell_type": "markdown",
      "metadata": {
        "id": "view-in-github",
        "colab_type": "text"
      },
      "source": [
        "<a href=\"https://colab.research.google.com/github/popescuaaa/playground/blob/master/Gans_and_Series.ipynb\" target=\"_parent\"><img src=\"https://colab.research.google.com/assets/colab-badge.svg\" alt=\"Open In Colab\"/></a>"
      ]
    },
    {
      "cell_type": "markdown",
      "metadata": {
        "id": "RjOFLKoda7rT"
      },
      "source": [
        "#Create a simple neural network to classify iris plants"
      ]
    },
    {
      "cell_type": "markdown",
      "metadata": {
        "id": "6uw0tuPTbGW6"
      },
      "source": [
        "## Setup"
      ]
    },
    {
      "cell_type": "code",
      "metadata": {
        "id": "nc3QTLL5JYxn"
      },
      "source": [
        "import torch\n",
        "import yaml\n",
        "from torch import nn\n",
        "import torch.optim as optim\n",
        "from torch.utils.data import DataLoader, Dataset\n",
        "import matplotlib.pyplot as plt\n",
        "import numpy as np"
      ],
      "execution_count": 106,
      "outputs": []
    },
    {
      "cell_type": "markdown",
      "metadata": {
        "id": "BbnjtOTfJeLU"
      },
      "source": [
        "## Custom dataset\n",
        "## Must povide data + labels\n",
        "General structure for data:\n",
        "[f, f, f, f, f, l] f = fature, l = label"
      ]
    },
    {
      "cell_type": "code",
      "metadata": {
        "id": "d8eW0O8tvhW_"
      },
      "source": [
        "LABELS = ['Iris-versicolor', 'Iris-setosa', 'Iris-virginica']"
      ],
      "execution_count": 107,
      "outputs": []
    },
    {
      "cell_type": "code",
      "metadata": {
        "id": "Iw6VdcenJdKO"
      },
      "source": [
        "class IrisDataset(Dataset):\n",
        "    def __init__(self):\n",
        "        self.raw_data = np.loadtxt('./Iris.csv', delimiter=',', dtype=np.str)\n",
        "        self.len = self.raw_data.shape[0] - 1\n",
        "        self.relevant_data = [[float(item[1]), float(item[2]), float(item[3]), float(item[4])] \\\n",
        "                     for item in self.raw_data[1:len(self.raw_data)]]\n",
        "\n",
        "        # Processing data\n",
        "        self.labels = [ [float(LABELS.index(item[5]))] for item in self.raw_data[1:len(self.raw_data)] ]\n",
        "\n",
        "        self.data = [(None, None)] * len(self.relevant_data)\n",
        "\n",
        "        for idx in range(len(self.relevant_data)):\n",
        "          self.data[idx] = ( torch.Tensor(self.relevant_data[idx]), torch.Tensor(self.labels[idx]))\n",
        "\n",
        "    def get_features_list(self):\n",
        "      return self.raw_data[0][1:len(self.raw_data[0]) - 1]\n",
        "\n",
        "    def __getitem__(self, index):\n",
        "        data, label = self.data[index] # (data, label)\n",
        "        return data, label\n",
        "\n",
        "    def __len__(self):\n",
        "        return self.len"
      ],
      "execution_count": 108,
      "outputs": []
    },
    {
      "cell_type": "code",
      "metadata": {
        "id": "LkfoR7yrJt3o"
      },
      "source": [
        "ds = IrisDataset()"
      ],
      "execution_count": 109,
      "outputs": []
    },
    {
      "cell_type": "markdown",
      "metadata": {
        "id": "yVR2eAPiMG0u"
      },
      "source": [
        "## Dataloader\n",
        "Dataset + sampler"
      ]
    },
    {
      "cell_type": "code",
      "metadata": {
        "id": "UYtK5i30MLOc"
      },
      "source": [
        " # load yaml data\n",
        "with open('simple_network.yaml', 'r') as f:\n",
        "    config = yaml.load(f)\n",
        "\n",
        "train_ds, test_ds = IrisDataset(), IrisDataset()\n",
        "\n",
        "train_loader = DataLoader(dataset=train_ds, batch_size=int(config['batch_size']), shuffle=True)\n",
        "test_loader = DataLoader(dataset=test_ds, batch_size=int(config['batch_size']), shuffle=True)\n"
      ],
      "execution_count": 110,
      "outputs": []
    },
    {
      "cell_type": "markdown",
      "metadata": {
        "id": "PEzBqLzJNGg_"
      },
      "source": [
        "## NN"
      ]
    },
    {
      "cell_type": "code",
      "metadata": {
        "id": "ceLxFMpwZ0K5"
      },
      "source": [
        "class IrisNet(nn.Module):\n",
        "    def __init__(self, cfg):\n",
        "        super(IrisNet, self).__init__()\n",
        "        self.input_size = cfg['input_size']\n",
        "        self.hidden_layer_1 = cfg['hidden_layer_1']\n",
        "        self.hidden_layer_2 = cfg['hidden_layer_2']\n",
        "        self.num_classes = cfg['num_classes']\n",
        "\n",
        "        # define network structure\n",
        "        self.fc1 = nn.Linear(self.input_size, self.hidden_layer_1)\n",
        "        self.activation1 = nn.ReLU()\n",
        "\n",
        "        self.fc2 = nn.Linear(self.hidden_layer_1, self.hidden_layer_2)\n",
        "        self.activation2 = nn.ReLU()\n",
        "\n",
        "        self.fc3 = nn.Linear(self.hidden_layer_2, self.num_classes)\n",
        "\n",
        "\n",
        "    def forward(self, batch):\n",
        "        out = self.fc1(batch)\n",
        "        out = self.activation1(out)\n",
        "        out = self.fc2(out)\n",
        "        out = self.activation2(out)\n",
        "        out = self.fc3(out)\n",
        "        return out\n",
        "\n"
      ],
      "execution_count": 111,
      "outputs": []
    },
    {
      "cell_type": "markdown",
      "metadata": {
        "id": "t41Ft8lca5wW"
      },
      "source": [
        "## Criterion and Optimizer"
      ]
    },
    {
      "cell_type": "code",
      "metadata": {
        "id": "s-CKPAYVPMxa"
      },
      "source": [
        "iris_nn = IrisNet(config)\n",
        "criterion = nn.MSELoss()\n",
        "optimizer = optim.SGD(iris_nn.parameters(), lr=0.001, momentum=0.9)"
      ],
      "execution_count": 112,
      "outputs": []
    },
    {
      "cell_type": "markdown",
      "metadata": {
        "id": "IX1hcCwFPZQm"
      },
      "source": [
        "## Training"
      ]
    },
    {
      "cell_type": "code",
      "metadata": {
        "colab": {
          "base_uri": "https://localhost:8080/"
        },
        "id": "2AvyxlagPUCH",
        "outputId": "3390db04-61a9-4f33-c880-8c37709d46fc"
      },
      "source": [
        "\n",
        "for epoch in range(2):  # loop over the dataset multiple times\n",
        "\n",
        "    running_loss = 0.0\n",
        "    for i, data in enumerate(train_loader, 0):\n",
        "        # get the inputs; data is a list of [inputs, labels]\n",
        "        inputs, labels = data\n",
        "\n",
        "        # zero the parameter gradients\n",
        "        optimizer.zero_grad()\n",
        "\n",
        "        # forward + backward + optimize\n",
        "        outputs = iris_nn(inputs)\n",
        "        loss = criterion(outputs, labels)\n",
        "        loss.backward()\n",
        "        optimizer.step()\n",
        "\n",
        "        # print statistics\n",
        "        running_loss += loss.item()\n",
        "        print('[%d, %5d] loss: %.3f' %\n",
        "              (epoch + 1, i + 1, running_loss / 2000))\n",
        "        running_loss = 0.0\n",
        "\n",
        "print('Finished Training')"
      ],
      "execution_count": 120,
      "outputs": [
        {
          "output_type": "stream",
          "text": [
            "[1,     1] loss: 0.001\n",
            "[1,     2] loss: 0.001\n",
            "[1,     3] loss: 0.001\n",
            "[2,     1] loss: 0.001\n",
            "[2,     2] loss: 0.001\n",
            "[2,     3] loss: 0.001\n",
            "Finished Training\n"
          ],
          "name": "stdout"
        },
        {
          "output_type": "stream",
          "text": [
            "/usr/local/lib/python3.6/dist-packages/torch/nn/modules/loss.py:446: UserWarning: Using a target size (torch.Size([60, 1])) that is different to the input size (torch.Size([60, 3])). This will likely lead to incorrect results due to broadcasting. Please ensure they have the same size.\n",
            "  return F.mse_loss(input, target, reduction=self.reduction)\n",
            "/usr/local/lib/python3.6/dist-packages/torch/nn/modules/loss.py:446: UserWarning: Using a target size (torch.Size([30, 1])) that is different to the input size (torch.Size([30, 3])). This will likely lead to incorrect results due to broadcasting. Please ensure they have the same size.\n",
            "  return F.mse_loss(input, target, reduction=self.reduction)\n"
          ],
          "name": "stderr"
        }
      ]
    },
    {
      "cell_type": "code",
      "metadata": {
        "id": "zmpr0JtqPtsr"
      },
      "source": [
        "PATH = './iris_net.pth'\n",
        "torch.save(iris_nn.state_dict(), PATH)"
      ],
      "execution_count": 121,
      "outputs": []
    },
    {
      "cell_type": "code",
      "metadata": {
        "colab": {
          "base_uri": "https://localhost:8080/"
        },
        "id": "0rPDkd1Q1BNV",
        "outputId": "b4fd82d0-72a0-4e70-f13d-29eb5854e593"
      },
      "source": [
        "iris_nn_test = IrisNet(config)\n",
        "iris_nn_test.load_state_dict(torch.load(PATH))"
      ],
      "execution_count": 122,
      "outputs": [
        {
          "output_type": "execute_result",
          "data": {
            "text/plain": [
              "<All keys matched successfully>"
            ]
          },
          "metadata": {
            "tags": []
          },
          "execution_count": 122
        }
      ]
    },
    {
      "cell_type": "code",
      "metadata": {
        "colab": {
          "base_uri": "https://localhost:8080/"
        },
        "id": "0aLPPiLD1af7",
        "outputId": "77119df5-1aef-4e71-96a3-280fedc7ec47"
      },
      "source": [
        "correct = 0\n",
        "total = 0\n",
        "with torch.no_grad():\n",
        "    for data in test_loader:\n",
        "        iris, labels = data\n",
        "        outputs = iris_nn_test(iris)\n",
        "        _, predicted = torch.max(outputs.data, 1)\n",
        "        total += labels.size(0)\n",
        "        correct += (predicted == labels).sum().item()\n",
        "\n",
        "print('Accuracy of the network on the 10000 test iris data: %d %%' % (\n",
        "    100 * correct / total))"
      ],
      "execution_count": 123,
      "outputs": [
        {
          "output_type": "stream",
          "text": [
            "Accuracy of the network on the 10000 test iris data: 1760 %\n"
          ],
          "name": "stdout"
        }
      ]
    },
    {
      "cell_type": "markdown",
      "metadata": {
        "id": "9PEg7wtCH6XK"
      },
      "source": [
        ""
      ]
    },
    {
      "cell_type": "code",
      "metadata": {
        "id": "kbAbXfPB11Zj"
      },
      "source": [
        ""
      ],
      "execution_count": 116,
      "outputs": []
    }
  ]
}