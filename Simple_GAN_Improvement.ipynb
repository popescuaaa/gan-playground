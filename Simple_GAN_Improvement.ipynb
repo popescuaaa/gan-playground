{
  "nbformat": 4,
  "nbformat_minor": 0,
  "metadata": {
    "colab": {
      "name": "Simple GAN Improvement.ipynb",
      "provenance": [],
      "collapsed_sections": [],
      "toc_visible": true,
      "authorship_tag": "ABX9TyNIXzSM21YMi4jZFqxPfuJM",
      "include_colab_link": true
    },
    "kernelspec": {
      "name": "python3",
      "display_name": "Python 3"
    }
  },
  "cells": [
    {
      "cell_type": "markdown",
      "metadata": {
        "id": "view-in-github",
        "colab_type": "text"
      },
      "source": [
        "<a href=\"https://colab.research.google.com/github/popescuaaa/playground/blob/master/Simple_GAN_Improvement.ipynb\" target=\"_parent\"><img src=\"https://colab.research.google.com/assets/colab-badge.svg\" alt=\"Open In Colab\"/></a>"
      ]
    },
    {
      "cell_type": "code",
      "metadata": {
        "id": "6FsDYwBxTbwB"
      },
      "source": [
        "import torch\n",
        "from torch import nn\n",
        "import torch.optim as optim\n",
        "from torch.utils.data import DataLoader, Dataset\n",
        "import torchvision.datasets.mnist as mnist\n",
        "import torch.utils.data as data"
      ],
      "execution_count": 1,
      "outputs": []
    },
    {
      "cell_type": "markdown",
      "metadata": {
        "id": "XJMPouaGXP22"
      },
      "source": [
        "# Setup"
      ]
    },
    {
      "cell_type": "code",
      "metadata": {
        "id": "XEHVEjHYWwBX"
      },
      "source": [
        "config = {\n",
        "  'learning_rate': 0.1,\n",
        "\n",
        "  'g': {\n",
        "      'dim_latent': 128,\n",
        "      'dim_hidden': 128,\n",
        "      'act': 'relu',\n",
        "      'norm': 'batch'\n",
        "  },\n",
        "\n",
        "  'd': {\n",
        "      'act': 'relu',\n",
        "      'norm': 'none'\n",
        "  }\n",
        "}"
      ],
      "execution_count": 4,
      "outputs": []
    },
    {
      "cell_type": "markdown",
      "metadata": {
        "id": "IRSZV-U4Xtn9"
      },
      "source": [
        "## Helpers"
      ]
    },
    {
      "cell_type": "code",
      "metadata": {
        "id": "7T76bkXbXwwW"
      },
      "source": [
        ""
      ],
      "execution_count": null,
      "outputs": []
    },
    {
      "cell_type": "markdown",
      "metadata": {
        "id": "_WokFzgMXjiO"
      },
      "source": [
        "# Generator"
      ]
    },
    {
      "cell_type": "code",
      "metadata": {
        "id": "Q3VbVBUMXjK-"
      },
      "source": [
        "class Generator(nn.Module):\n",
        "  def __init__(self, in_features):\n",
        "    super().__init__()\n",
        "    self.params = in_features\n",
        "    __module_list = [\n",
        "        nn.Linear(self.params['input_size'], self.params['hidden_layer_1']),\n",
        "        nn.ReLU(),\n",
        "        nn.Linear(self.params['hidden_layer_1'], self.params['hidden_layer_2']),\n",
        "        nn.ReLU(),\n",
        "        nn.Linear(self.params['hidden_layer_2'], self.params['output_size']),\n",
        "        nn.Tanh()\n",
        "    ]\n",
        "\n",
        "    self.__net = nn.Sequential(*__module_list)\n",
        "\n",
        "  def forward(self, x):\n",
        "     return self.__net(x)"
      ],
      "execution_count": null,
      "outputs": []
    },
    {
      "cell_type": "markdown",
      "metadata": {
        "id": "51_YsZ26XnWr"
      },
      "source": [
        "# Discriminator"
      ]
    },
    {
      "cell_type": "code",
      "metadata": {
        "id": "1uTfdFRtXSjG"
      },
      "source": [
        "class Discriminator(nn.Module):\n",
        "  def __init__(self, in_features):\n",
        "    super().__init__()\n",
        "    self.params = in_features\n",
        "    __module_list = [\n",
        "        nn.Linear(self.params['input_size'], self.params['hidden_layer_1']),\n",
        "        nn.ReLU(),\n",
        "        nn.Linear(self.params['hidden_layer_1'], self.params['hidden_layer_2']),\n",
        "        nn.ReLU(),\n",
        "        nn.Linear(self.params['hidden_layer_2'], self.params['output_size']),\n",
        "        nn.Sigmoid()\n",
        "    ]\n",
        "\n",
        "    self.__net = nn.Sequential(*__module_list)\n",
        "\n",
        "  def forward(self, x):\n",
        "     return self.__net(x)"
      ],
      "execution_count": null,
      "outputs": []
    },
    {
      "cell_type": "markdown",
      "metadata": {
        "id": "-IcJF577Xypj"
      },
      "source": [
        "# System training"
      ]
    },
    {
      "cell_type": "code",
      "metadata": {
        "id": "SskAyb4WX0lQ"
      },
      "source": [
        ""
      ],
      "execution_count": null,
      "outputs": []
    }
  ]
}