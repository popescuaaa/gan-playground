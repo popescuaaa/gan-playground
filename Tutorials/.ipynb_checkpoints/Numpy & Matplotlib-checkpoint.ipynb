{
 "cells": [
  {
   "cell_type": "markdown",
   "metadata": {},
   "source": [
    "### Numpy\n",
    "> Numpy is the main scientific library used in machine-learning. The main advantage is the ability to handle large volumes of data using behind the SIMD principles of parallel computation.\n",
    "> The main entity is the ndarray"
   ]
  },
  {
   "cell_type": "code",
   "execution_count": 4,
   "metadata": {},
   "outputs": [],
   "source": [
    "import numpy as np\n",
    "\n",
    "def array_playground():\n",
    "    a = np.array([1,2,3,4,5])\n",
    "    print(a)\n",
    "    print(type(a))\n",
    "    print(a.shape)\n",
    "    \n"
   ]
  },
  {
   "cell_type": "code",
   "execution_count": 5,
   "metadata": {},
   "outputs": [
    {
     "name": "stdout",
     "output_type": "stream",
     "text": [
      "[1 2 3 4 5]\n",
      "<class 'numpy.ndarray'>\n",
      "(5,)\n"
     ]
    }
   ],
   "source": [
    "array_playground()"
   ]
  },
  {
   "cell_type": "markdown",
   "metadata": {},
   "source": [
    "### Generating multidimensional arrays"
   ]
  },
  {
   "cell_type": "code",
   "execution_count": 6,
   "metadata": {},
   "outputs": [],
   "source": [
    "def functions_for_arrays():\n",
    "    #  multidimensional arrays\n",
    "    z = np.zeros((2,3)) # the shape must be a tuple\n",
    "    print(z)\n",
    "    custom = np.full((2,3), 9) # this function fills the shape full with number on second position\n",
    "    print(custom)\n",
    "    i = np.eye(2)\n",
    "    print(i)\n",
    "    # generating a random matrix\n",
    "    e = np.random.random((2,2))\n",
    "    print(e)"
   ]
  },
  {
   "cell_type": "code",
   "execution_count": 7,
   "metadata": {},
   "outputs": [
    {
     "name": "stdout",
     "output_type": "stream",
     "text": [
      "[[ 0.  0.  0.]\n",
      " [ 0.  0.  0.]]\n",
      "[[9 9 9]\n",
      " [9 9 9]]\n",
      "[[ 1.  0.]\n",
      " [ 0.  1.]]\n",
      "[[ 0.2362819   0.82614144]\n",
      " [ 0.05162549  0.03671524]]\n"
     ]
    }
   ],
   "source": [
    "functions_for_arrays()"
   ]
  },
  {
   "cell_type": "markdown",
   "metadata": {},
   "source": [
    "### Indexing and slicing into numpy arrays"
   ]
  },
  {
   "cell_type": "code",
   "execution_count": 10,
   "metadata": {},
   "outputs": [],
   "source": [
    "def indexing_and_slicing():\n",
    "    # Create the following rank 2 array with shape (3, 4)\n",
    "    # [[ 1  2  3  4]\n",
    "    #  [ 5  6  7  8]\n",
    "    #  [ 9 10 11 12]]\n",
    "    a = np.array([[1,2,3,4], [5,6,7,8], [9,10,11,12]])\n",
    "\n",
    "    # Use slicing to pull out the subarray consisting of the first 2 rows\n",
    "    # and columns 1 and 2; b is the following array of shape (2, 2):\n",
    "    # [[2 3]\n",
    "    #  [6 7]]\n",
    "    b = a[:1, 1:3]\n",
    "    print(b)\n",
    "    \n",
    "    # A slice of an array is a view into the same data, so modifying it\n",
    "    # will modify the original array.\n",
    "    print(a[0, 1])   # Prints \"2\"\n",
    "    b[0, 0] = 77     # b[0, 0] is the same piece of data as a[0, 1]\n",
    "    print(a[0, 1])   # Prints \"77\""
   ]
  },
  {
   "cell_type": "code",
   "execution_count": 11,
   "metadata": {},
   "outputs": [
    {
     "name": "stdout",
     "output_type": "stream",
     "text": [
      "[[2 3]]\n",
      "2\n",
      "77\n"
     ]
    }
   ],
   "source": [
    "indexing_and_slicing()"
   ]
  },
  {
   "cell_type": "markdown",
   "metadata": {},
   "source": [
    "### Integer indexing and how to retrive data with multiple coordinates"
   ]
  },
  {
   "cell_type": "code",
   "execution_count": null,
   "metadata": {},
   "outputs": [],
   "source": [
    "def coordinates():\n",
    "    a = np.array([[1,2], [3, 4], [5, 6]])\n",
    "\n",
    "    # An example of integer array indexing.\n",
    "    # The returned array will have shape (3,) and\n",
    "    print(a[[0, 1, 2], [0, 1, 0]])  # Prints \"[1 4 5]\"\n",
    "\n",
    "    # The above example of integer array indexing is equivalent to this:\n",
    "    print(np.array([a[0, 0], a[1, 1], a[2, 0]]))  # Prints \"[1 4 5]\"\n",
    "\n",
    "    # When using integer array indexing, you can reuse the same\n",
    "    # element from the source array:\n",
    "    print(a[[0, 0], [1, 1]])  # Prints \"[2 2]\"\n",
    "\n",
    "    # Equivalent to the previous integer array indexing example\n",
    "    print(np.array([a[0, 1], a[0, 1]]))  # Prints \"[2 2]\""
   ]
  }
 ],
 "metadata": {
  "kernelspec": {
   "display_name": "Python 3",
   "language": "python",
   "name": "python3"
  },
  "language_info": {
   "codemirror_mode": {
    "name": "ipython",
    "version": 3
   },
   "file_extension": ".py",
   "mimetype": "text/x-python",
   "name": "python",
   "nbconvert_exporter": "python",
   "pygments_lexer": "ipython3",
   "version": "3.6.4"
  }
 },
 "nbformat": 4,
 "nbformat_minor": 4
}
